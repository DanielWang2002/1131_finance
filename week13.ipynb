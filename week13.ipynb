{
 "cells": [
  {
   "cell_type": "markdown",
   "metadata": {},
   "source": [
    "# 基因演算法範例 - 股票投資分析\n",
    "\n",
    "此範例展示如何使用基因演算法挑選最適合的投資標的。範例中選用了三支台股股票，並基於平均日報酬率與風險(標準差)來評估適應度，最終目標是選擇最佳的投資標的。"
   ]
  },
  {
   "cell_type": "markdown",
   "metadata": {},
   "source": [
    "## 參數與資料設定\n",
    "在這部分，我們設定股票代碼、資料範圍，以及基因演算法的參數（族群大小、世代數等）。"
   ]
  },
  {
   "cell_type": "code",
   "execution_count": 13,
   "metadata": {},
   "outputs": [],
   "source": [
    "import yfinance as yf\n",
    "import numpy as np\n",
    "import random\n",
    "\n",
    "# 股票代碼\n",
    "stocks = [\"2330.TW\", \"2303.TW\", \"2317.TW\", \"3008.TW\"]  # 台積電、聯電、鴻海、大立光\n",
    "start_date = \"2023-01-01\"\n",
    "end_date = \"2024-12-31\"\n",
    "\n",
    "# GA參數\n",
    "pop_size = 10  # 族群大小\n",
    "generations = 10  # 演化世代數\n",
    "mutation_rate = 0.1"
   ]
  },
  {
   "cell_type": "markdown",
   "metadata": {},
   "source": [
    "## 抓取與處理股票資料\n",
    "我們使用 `yfinance` 套件下載股票的調整收盤價，並計算每日報酬率與風險（標準差）。"
   ]
  },
  {
   "cell_type": "code",
   "execution_count": 14,
   "metadata": {},
   "outputs": [
    {
     "name": "stderr",
     "output_type": "stream",
     "text": [
      "[*********************100%***********************]  1 of 1 completed\n",
      "[*********************100%***********************]  1 of 1 completed\n",
      "[*********************100%***********************]  1 of 1 completed\n",
      "[*********************100%***********************]  1 of 1 completed\n"
     ]
    }
   ],
   "source": [
    "data = {}\n",
    "for stock in stocks:\n",
    "    df = yf.download(stock, start=start_date, end=end_date)\n",
    "    data[stock] = df['Adj Close']\n",
    "\n",
    "# 將資料對齊 (以防有缺值狀況)\n",
    "prices = np.column_stack([data[s].values for s in stocks])\n",
    "# 若有NaN，簡單以前值填補\n",
    "where_nan = np.isnan(prices)\n",
    "prices[where_nan] = np.nanmean(prices, axis=0)[np.where(where_nan)[1]]\n",
    "\n",
    "# 計算每日報酬率\n",
    "returns = (prices[1:] - prices[:-1]) / prices[:-1]\n",
    "mean_returns = np.mean(returns, axis=0)\n",
    "std_returns = np.std(returns, axis=0)"
   ]
  },
  {
   "cell_type": "markdown",
   "metadata": {},
   "source": [
    "## 定義適應度函數\n",
    "適應度函數的目標是最大化平均日報酬率並最小化風險。"
   ]
  },
  {
   "cell_type": "code",
   "execution_count": 15,
   "metadata": {},
   "outputs": [],
   "source": [
    "def fitness(chromosome):\n",
    "    # chromosome為長度3的list, 例如 [1,0,0], 表示選擇stocks[0]\n",
    "    idx = chromosome.index(1)\n",
    "    m = mean_returns[idx]\n",
    "    s = std_returns[idx]\n",
    "    fit = m - s\n",
    "    return fit"
   ]
  },
  {
   "cell_type": "markdown",
   "metadata": {},
   "source": [
    "## 初始化族群\n",
    "每個染色體表示選擇哪一支股票，每個染色體為一個長度為3的二元列表，其中只有一個值為1，表示選定的股票。"
   ]
  },
  {
   "cell_type": "code",
   "execution_count": 16,
   "metadata": {},
   "outputs": [],
   "source": [
    "def create_chromosome():\n",
    "    # 隨機選1支\n",
    "    ch = [0, 0, 0]\n",
    "    ch[random.randint(0, 2)] = 1\n",
    "    return ch\n",
    "\n",
    "population = [create_chromosome() for _ in range(pop_size)]"
   ]
  },
  {
   "cell_type": "markdown",
   "metadata": {},
   "source": [
    "## 基因演算法迭代流程\n",
    "在這部分，我們進行適應度評估、選擇、交配與突變，並生成新族群。"
   ]
  },
  {
   "cell_type": "code",
   "execution_count": 17,
   "metadata": {},
   "outputs": [
    {
     "name": "stdout",
     "output_type": "stream",
     "text": [
      "Generation 1: Best Fitness = -0.014404, Chromosome = [0, 1, 0]\n",
      "Generation 2: Best Fitness = -0.014404, Chromosome = [0, 1, 0]\n",
      "Generation 3: Best Fitness = -0.014404, Chromosome = [0, 1, 0]\n",
      "Generation 4: Best Fitness = -0.014404, Chromosome = [0, 1, 0]\n",
      "Generation 5: Best Fitness = -0.014404, Chromosome = [0, 1, 0]\n",
      "Generation 6: Best Fitness = -0.014404, Chromosome = [0, 1, 0]\n",
      "Generation 7: Best Fitness = -0.014404, Chromosome = [0, 1, 0]\n",
      "Generation 8: Best Fitness = -0.014404, Chromosome = [0, 1, 0]\n",
      "Generation 9: Best Fitness = -0.014404, Chromosome = [0, 1, 0]\n",
      "Generation 10: Best Fitness = -0.014404, Chromosome = [0, 1, 0]\n"
     ]
    }
   ],
   "source": [
    "for gen in range(generations):\n",
    "    # 計算適應度\n",
    "    fitness_values = [fitness(ch) for ch in population]\n",
    "\n",
    "    # 印出本世代最佳\n",
    "    best_fit = max(fitness_values)\n",
    "    best_ch = population[fitness_values.index(best_fit)]\n",
    "    print(f\"Generation {gen+1}: Best Fitness = {best_fit:.6f}, Chromosome = {best_ch}\")\n",
    "\n",
    "    # 簡單菁英保存\n",
    "    new_population = [best_ch]\n",
    "\n",
    "    # 輪盤選擇函式\n",
    "    def roulette_wheel(fits):\n",
    "        pick = random.random() * sum(fits)\n",
    "        current = 0\n",
    "        for i, f in enumerate(fits):\n",
    "            current += f\n",
    "            if current > pick:\n",
    "                return i\n",
    "        return len(fits) - 1\n",
    "\n",
    "    while len(new_population) < pop_size:\n",
    "        p1_idx = roulette_wheel(fitness_values)\n",
    "        p2_idx = roulette_wheel(fitness_values)\n",
    "        parent1 = population[p1_idx]\n",
    "        parent2 = population[p2_idx]\n",
    "\n",
    "        # 單點交配\n",
    "        cross_point = random.randint(1, 2)\n",
    "        child1 = parent1[:cross_point] + parent2[cross_point:]\n",
    "        child2 = parent2[:cross_point] + parent1[cross_point:]\n",
    "\n",
    "        def fix_chromosome(ch):\n",
    "            if sum(ch) == 1:\n",
    "                return ch\n",
    "            new_ch = [0, 0, 0]\n",
    "            new_ch[random.randint(0, 2)] = 1\n",
    "            return new_ch\n",
    "\n",
    "        child1 = fix_chromosome(child1)\n",
    "        child2 = fix_chromosome(child2)\n",
    "\n",
    "        def mutate(ch):\n",
    "            if random.random() < mutation_rate:\n",
    "                m_ch = [0, 0, 0]\n",
    "                m_ch[random.randint(0, 2)] = 1\n",
    "                return m_ch\n",
    "            return ch\n",
    "\n",
    "        child1 = mutate(child1)\n",
    "        child2 = mutate(child2)\n",
    "\n",
    "        new_population.append(child1)\n",
    "        if len(new_population) < pop_size:\n",
    "            new_population.append(child2)\n",
    "\n",
    "    population = new_population"
   ]
  },
  {
   "cell_type": "markdown",
   "metadata": {},
   "source": [
    "## 最終結果\n",
    "列出每支股票的回報率、風險與適應度，並顯示最佳選擇的股票。"
   ]
  },
  {
   "cell_type": "code",
   "execution_count": 18,
   "metadata": {},
   "outputs": [
    {
     "name": "stdout",
     "output_type": "stream",
     "text": [
      "2330.TW: 平均回報率 = 0.002038, 風險 = 0.018454, 適應度 = -0.016416\n",
      "2303.TW: 平均回報率 = 0.000458, 風險 = 0.014862, 適應度 = -0.014404\n",
      "2317.TW: 平均回報率 = 0.001728, 風險 = 0.019320, 適應度 = -0.017592\n",
      "3008.TW: 平均回報率 = 0.000741, 風險 = 0.021098, 適應度 = -0.020358\n",
      "===== 最終結果 =====\n",
      "股票選擇：['2330.TW', '2303.TW', '2317.TW', '3008.TW']\n",
      "最佳投資組合選擇的股票: 2303.TW\n",
      "預期日平均回報率: 0.000458\n",
      "風險(報酬率標準差): 0.014862\n",
      "適應度: -0.014404\n"
     ]
    }
   ],
   "source": [
    "fitness_values = [fitness(ch) for ch in population]\n",
    "best_fit = max(fitness_values)\n",
    "best_ch = population[fitness_values.index(best_fit)]\n",
    "best_stock = stocks[best_ch.index(1)]\n",
    "final_idx = best_ch.index(1)\n",
    "final_return = mean_returns[final_idx]\n",
    "final_risk = std_returns[final_idx]\n",
    "\n",
    "for i, stock in enumerate(stocks):\n",
    "    print(f\"{stock}: 平均回報率 = {mean_returns[i]:.6f}, 風險 = {std_returns[i]:.6f}, 適應度 = {mean_returns[i] - std_returns[i]:.6f}\")\n",
    "\n",
    "print(\"===== 最終結果 =====\")\n",
    "print(f\"股票選擇：{stocks}\")\n",
    "print(f\"最佳投資組合選擇的股票: {best_stock}\")\n",
    "print(f\"預期日平均回報率: {final_return:.6f}\")\n",
    "print(f\"風險(報酬率標準差): {final_risk:.6f}\")\n",
    "print(f\"適應度: {best_fit:.6f}\")"
   ]
  }
 ],
 "metadata": {
  "kernelspec": {
   "display_name": "nchu_1131_finance",
   "language": "python",
   "name": "python3"
  },
  "language_info": {
   "codemirror_mode": {
    "name": "ipython",
    "version": 3
   },
   "file_extension": ".py",
   "mimetype": "text/x-python",
   "name": "python",
   "nbconvert_exporter": "python",
   "pygments_lexer": "ipython3",
   "version": "3.10.15"
  }
 },
 "nbformat": 4,
 "nbformat_minor": 4
}
