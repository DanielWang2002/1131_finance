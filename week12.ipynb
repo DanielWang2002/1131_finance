{
 "cells": [
  {
   "cell_type": "markdown",
   "metadata": {},
   "source": [
    "# 內部class, function呼叫說明\n",
    "```\n",
    "from modules.Fundamental import FundamentalData\n",
    "from modules.News import GNews\n",
    "from modules.LLM import GeminiAPI\n",
    "```\n",
    "這三個是內部自行撰寫的class，主要呼叫`FinMind`取得股票基本面資訊、`GNews`取得股票相關最新新聞、`Gemini`產生股票推薦程度及相關說明"
   ]
  },
  {
   "cell_type": "code",
   "execution_count": 37,
   "id": "imports",
   "metadata": {},
   "outputs": [],
   "source": [
    "import datetime\n",
    "\n",
    "import pandas as pd\n",
    "\n",
    "from modules.Fundamental import FundamentalData\n",
    "from modules.News import GNews\n",
    "from modules.LLM import GeminiAPI\n"
   ]
  },
  {
   "cell_type": "code",
   "execution_count": 38,
   "metadata": {},
   "outputs": [],
   "source": [
    "stock_id = \"6870\""
   ]
  },
  {
   "cell_type": "code",
   "execution_count": 39,
   "metadata": {},
   "outputs": [],
   "source": [
    "fd_api = \"\"\n",
    "gnews_api = \"\"\n",
    "llm_api = \"\""
   ]
  },
  {
   "cell_type": "code",
   "execution_count": 40,
   "id": "mix_output_function",
   "metadata": {},
   "outputs": [],
   "source": [
    "def mix_output(fd_output: str, news_output: str) -> str:\n",
    "    \"\"\"\n",
    "    Mix the output of FundamentalData and News\n",
    "    \n",
    "    :param fd_output: The output of FundamentalData\n",
    "    :param news_output: The output of News\n",
    "    \"\"\"\n",
    "    return fd_output + \"\\n\" + \"以下是最近的十筆新聞：\\n\" + news_output\n"
   ]
  },
  {
   "cell_type": "code",
   "execution_count": 41,
   "id": "fundamental_data",
   "metadata": {},
   "outputs": [
    {
     "name": "stderr",
     "output_type": "stream",
     "text": [
      "\u001b[32m2024-11-30 14:59:35.405\u001b[0m | \u001b[1mINFO    \u001b[0m | \u001b[36mFinMind.data.finmind_api\u001b[0m:\u001b[36mget_data\u001b[0m:\u001b[36m166\u001b[0m - \u001b[1mdownload TaiwanStockFinancialStatements, data_id: 6870\u001b[0m\n",
      "\u001b[32m2024-11-30 14:59:37.498\u001b[0m | \u001b[1mINFO    \u001b[0m | \u001b[36mFinMind.data.finmind_api\u001b[0m:\u001b[36mget_data\u001b[0m:\u001b[36m166\u001b[0m - \u001b[1mdownload TaiwanStockBalanceSheet, data_id: 6870\u001b[0m\n",
      "\u001b[32m2024-11-30 14:59:38.979\u001b[0m | \u001b[1mINFO    \u001b[0m | \u001b[36mFinMind.data.finmind_api\u001b[0m:\u001b[36mget_data\u001b[0m:\u001b[36m166\u001b[0m - \u001b[1mdownload TaiwanStockCashFlowsStatement, data_id: 6870\u001b[0m\n",
      "\u001b[32m2024-11-30 14:59:39.342\u001b[0m | \u001b[1mINFO    \u001b[0m | \u001b[36mFinMind.data.finmind_api\u001b[0m:\u001b[36mget_data\u001b[0m:\u001b[36m166\u001b[0m - \u001b[1mdownload TaiwanStockDividend, data_id: 6870\u001b[0m\n",
      "\u001b[32m2024-11-30 14:59:39.862\u001b[0m | \u001b[1mINFO    \u001b[0m | \u001b[36mFinMind.data.finmind_api\u001b[0m:\u001b[36mget_data\u001b[0m:\u001b[36m166\u001b[0m - \u001b[1mdownload TaiwanStockDividendResult, data_id: 6870\u001b[0m\n",
      "\u001b[32m2024-11-30 14:59:40.155\u001b[0m | \u001b[1mINFO    \u001b[0m | \u001b[36mFinMind.data.finmind_api\u001b[0m:\u001b[36mget_data\u001b[0m:\u001b[36m166\u001b[0m - \u001b[1mdownload TaiwanStockMonthRevenue, data_id: 6870\u001b[0m\n"
     ]
    },
    {
     "name": "stdout",
     "output_type": "stream",
     "text": [
      "投資活動中，存貨（增加）減少 為 -20389000.00 元。\n",
      "其 非流動資產合計 為 483666000.00 元。\n",
      "投資活動中，租賃本金償還 為 -4948000.00 元。\n",
      "投資活動中，短期借款減少 為 -67875000.00 元。\n",
      "其 其他應收款淨額 為 775000.00 元。\n",
      "截至 2024-09-30 00:00:00，股票代碼 6870 的 營業毛利（毛損）淨額 為 119655000.00 元。\n",
      "其 負債總額 為 473610000.00 元。\n",
      "其 其他非流動負債 為 3303000.00 元。\n",
      "其 未分配盈餘 為 64052000.00 元。\n",
      "其 負債準備－流動 為 4981000.00 元。\n",
      "其 無形資產 為 29657000.00 元。\n",
      "其 股本合計 為 228900000.00 元。\n",
      "其 不動產、廠房及設備 為 81527000.00 元。\n",
      "其 長期借款 為 61362000.00 元。\n",
      "截至 2024-09-30 00:00:00，股票代碼 6870 的 營業費用 為 89310000.00 元。\n",
      "投資活動中，繼續營業單位稅前淨利（淨損） 為 70623000.00 元。\n",
      "其 使用權資產 為 6556000.00 元。\n",
      "其 短期借款 為 92182000.00 元。\n",
      "投資活動中，折舊費用 為 10717000.00 元。\n",
      "截至 2024-09-30 00:00:00，股票代碼 6870 的 淨利（淨損）歸屬於母公司業主 為 29742000.00 元。\n",
      "投資活動中，收益費損項目合計 為 21120000.00 元。\n",
      "投資活動中，攤銷費用 為 2956000.00 元。\n",
      "截至 2024-09-30 00:00:00，股票代碼 6870 的 其他收益及費損淨額 為 0.00 元。\n",
      "其 本期所得稅資產 為 3550000.00 元。\n",
      "投資活動中，籌資活動之淨現金流入（流出） 為 -47760000.00 元。\n",
      "其 資本公積合計 為 614289000.00 元。\n",
      "其 採用權益法之投資 為 35167000.00 元。\n",
      "投資活動中，應收帳款（增加）減少 為 -94160000.00 元。\n",
      "其 應收票據淨額 為 2252000.00 元。\n",
      "投資活動中，期末現金及約當現金餘額 為 441295000.00 元。\n",
      "其 法定盈餘公積 為 24114000.00 元。\n",
      "截至 2024-09-30 00:00:00，股票代碼 6870 的 營業收入 為 181712000.00 元。\n",
      "投資活動中，本期現金及約當現金增加（減少）數 為 -142926000.00 元。\n",
      "截至 2024-09-30 00:00:00，股票代碼 6870 的 其他綜合損益（淨額） 為 234000.00 元。\n",
      "其 其他應付款 為 132612000.00 元。\n",
      "其 其他權益合計 為 5700000.00 元。\n",
      "其 應收帳款－關係人淨額 為 30772000.00 元。\n",
      "其 非控制權益 為 23339000.00 元。\n",
      "截至 2024-09-30 00:00:00，股票代碼 6870 的 營業成本 為 62057000.00 元。\n",
      "其 流動負債合計 為 380213000.00 元。\n",
      "截至 2024-09-30 00:00:00，股票代碼 6870 的 本期綜合損益總額 為 28590000.00 元。\n",
      "截至 2024-09-30 00:00:00，股票代碼 6870 的 營業利益（損失） 為 30345000.00 元。\n",
      "投資活動中，利息收入 為 -5599000.00 元。\n",
      "其 保留盈餘合計 為 88166000.00 元。\n",
      "其 應付帳款 為 57894000.00 元。\n",
      "其 母公司暨子公司所持有之母公司庫藏股股數 為 0.00 元。\n",
      "投資活動中，存出保證金減少 為 1388000.00 元。\n",
      "其 權益總計 為 1434004000.00 元。\n",
      "其 預付款項 為 30556000.00 元。\n",
      "投資活動中，期初現金及約當現金餘額 為 584221000.00 元。\n",
      "投資活動中，利息費用 為 2604000.00 元。\n",
      "其 歸屬於母公司業主之權益合計 為 937055000.00 元。\n",
      "投資活動中，取得不動產、廠房及設備 為 -1716000.00 元。\n",
      "截至 2024-09-30 00:00:00，股票代碼 6870 的 繼續營業單位本期淨利（淨損） 為 28356000.00 元。\n",
      "投資活動中，支付之利息 為 -2335000.00 元。\n",
      "截至 2024-09-30 00:00:00，股票代碼 6870 的 淨利（淨損）歸屬於非控制權益 為 -1386000.00 元。\n",
      "其 負債及權益總計 為 1434004000.00 元。\n",
      "其 透過其他綜合損益按公允價值衡量之金融資產－非流動 為 33126000.00 元。\n",
      "其 遞延所得稅資產 為 12973000.00 元。\n",
      "截至 2024-09-30 00:00:00，股票代碼 6870 的 營業外收入及支出 為 4444000.00 元。\n",
      "其 流動資產合計 為 950338000.00 元。\n",
      "投資活動中，償還長期借款 為 -17463000.00 元。\n",
      "其 其他流動負債 為 51379000.00 元。\n",
      "其 資產總額 為 1434004000.00 元。\n",
      "其 其他非流動資產 為 284660000.00 元。\n",
      "截至 2024-09-30 00:00:00，股票代碼 6870 的 所得稅費用（利益） 為 6433000.00 元。\n",
      "投資活動中，本期稅前淨利（淨損） 為 70623000.00 元。\n",
      "截至 2024-09-30 00:00:00，股票代碼 6870 的 基本每股盈餘（元） 為 1.23 元。\n",
      "投資活動中，營運產生之現金流入（流出） 為 -27534000.00 元。\n",
      "其 存貨 為 24365000.00 元。\n",
      "其 本期所得稅負債 為 183000.00 元。\n",
      "投資活動中，營業活動之淨現金流入 為 -36853000.00 元。\n",
      "其 應付帳款－關係人 為 2313000.00 元。\n",
      "其 應收帳款淨額 為 157391000.00 元。\n",
      "其 非流動負債合計 為 93397000.00 元。\n",
      "截至 2024-09-30 00:00:00，股票代碼 6870 的 本期淨利（淨損） 為 28356000.00 元。\n",
      "截至 2024-09-30 00:00:00，股票代碼 6870 的 稅前淨利（淨損） 為 34789000.00 元。\n",
      "其 其他流動資產 為 124086000.00 元。\n",
      "投資活動中，應付帳款 為 24546000.00 元。\n",
      "投資活動中，營業活動之淨現金流入（流出） 為 -36853000.00 元。\n",
      "投資活動中，投資活動之淨現金流入（流出） 為 -61581000.00 元。\n",
      "其 普通股股本 為 228900000.00 元。\n",
      "其 現金及約當現金 為 441295000.00 元。\n",
      "投資活動中，舉借長期借款 為 0.00 元。\n"
     ]
    }
   ],
   "source": [
    "### FundamentalData ###\n",
    "\n",
    "fd = FundamentalData(api_token=fd_api)\n",
    "\n",
    "df = fd.get_fundamental_df(stock_id=stock_id, start_date=\"2023-01-01\")\n",
    "df['date'] = pd.to_datetime(df['date'])\n",
    "df = df[df['date'] == fd.get_quarter(datetime.datetime.now())]\n",
    "# 將NaN超過 50% 的欄位刪除\n",
    "df = df.dropna(thresh=int(len(df) * 0.5), axis=1)\n",
    "\n",
    "# 將財務資料的 DataFrame 轉換為自然語言格式，使用變數\n",
    "# 過濾重複的 origin_name_x 和 origin_name_y\n",
    "# df_unique = df.drop_duplicates(subset=[\"origin_name_x\", \"origin_name_y\", \"origin_name\"])\n",
    "fd_output = fd.summarize_financial_data(df)\n",
    "\n",
    "print(fd_output)\n",
    "### FundamentalData ###\n"
   ]
  },
  {
   "cell_type": "code",
   "execution_count": 42,
   "id": "gnews_data",
   "metadata": {},
   "outputs": [
    {
     "name": "stdout",
     "output_type": "stream",
     "text": [
      "於 2023年09月05日 05:43 發佈的新聞：【熱門申購】最高價差達4.1萬！9月份最新5檔可抽籤股票基本面報你知！。摘要如下：新申購個股出爐囉！我們來看 9 月最新可抽籤股票，有 (3323-TW) 加百裕、(6284-TW)佳邦、(6870-TW)騰雲、(6796-TW)晉弘、(1316-TW)上曜共 5 檔，即便投資人申購股票多以短線賺取價差為主，但透過了解基本面與公司營運產品等方式，來了解公司是否具前景或話題性，如此。\n",
      "內容為：新申購個股出爐囉！我們來看 9 月最新可抽籤股票，有 (3323-TW) 加百裕、(6284-TW)佳邦、(6870-TW)騰雲、(6796-TW)晉弘、(1316-TW)上曜共 5 檔，即便投資人申購股票多以短線賺取價差為主，但透過了解基本面與公司營運產品等方式，來了解公司是否具前景或話題性，如此一來若真的中籤，就能加以判斷是否增加持有週期擴大報酬，接下來我們就來看看基本面。\n",
      "新申購個股整理：加...\n"
     ]
    }
   ],
   "source": [
    "### GNews ###\n",
    "gnews = GNews(api_key=gnews_api)\n",
    "\n",
    "df = gnews.fetch_news(query=f\"{stock_id}\", max_results=100)\n",
    "\n",
    "news_output = gnews.news_to_natural_language(df)\n",
    "\n",
    "print(news_output)\n",
    "\n",
    "### GNews ###\n"
   ]
  },
  {
   "cell_type": "code",
   "execution_count": 43,
   "id": "llm_processing",
   "metadata": {},
   "outputs": [],
   "source": [
    "### LLM ###\n",
    "stock_info = mix_output(fd_output, news_output)\n",
    "\n",
    "today = datetime.datetime.now().strftime(\"%Y-%m-%d\")\n",
    "head = f\"請透過以下資訊對{stock_id} 這檔台灣的股票進行分析，並在最後提供投資建議、理由，以及1~100的投資信心值。今天是{today}。請使用繁體中文進行回覆。不需要給我投資風險的相關警告或是免責聲明。\"\n",
    "\n",
    "llm = GeminiAPI(llm_api)\n",
    "\n",
    "prompt = head + stock_info\n",
    "llm_output = llm.generate_content(prompt=prompt)\n"
   ]
  },
  {
   "cell_type": "code",
   "execution_count": 44,
   "id": "display_llm_output",
   "metadata": {},
   "outputs": [
    {
     "data": {
      "text/markdown": [
       "## 6870 騰雲  股票分析 (2024-11-30)\n",
       "\n",
       "**公司概況:** 騰雲是一家提供SaaS雲端服務的公司，主要業務涵蓋零售、餐飲、電商等領域。\n",
       "\n",
       "**財務分析 (截至 2024-09-30):**\n",
       "\n",
       "* **獲利能力：**\n",
       "    * 營業收入：1.82億元\n",
       "    * 營業毛利：1.2億元，毛利率約 66%  (相當不錯)\n",
       "    * 營業利益：3035萬元，營益率約 17%\n",
       "    * 稅前淨利：3479萬元\n",
       "    * 本期淨利：2836萬元，淨利率約 16%\n",
       "    * EPS：1.23元\n",
       "* **財務狀況：**\n",
       "    * 流動資產：9.5億元\n",
       "    * 流動負債：3.8億元，流動比率 > 2 (財務結構穩健)\n",
       "    * 現金及約當現金：4.41億元 (充裕)\n",
       "    * 負債總額：4.74億元\n",
       "    * 權益總計：14.34億元\n",
       "    * 負債比率約 33% (財務結構良好)\n",
       "\n",
       "\n",
       "* **現金流量：**\n",
       "    * 營業活動現金流量：-3685萬元 (需要注意)  儘管公司有獲利，但營業活動現金流量卻是負數，需要進一步探討原因，例如應收帳款是否難以回收，或是存貨增加過快。\n",
       "    * 投資活動現金流量：-6158萬元 (主要來自不動產、廠房及設備的投資及其他金融資產的投資)\n",
       "    * 籌資活動現金流量：-4776萬元 (主要來自短期借款及租賃本金的償還)\n",
       "    * 現金及約當現金減少：-1.43億元\n",
       "\n",
       "\n",
       "**關鍵觀察點:**\n",
       "\n",
       "* 雖然公司呈現獲利狀態，但營業活動現金流量為負，需要深入了解原因。 這可能是短期現象，例如季節性因素或客戶付款週期延長所致，但也可能是營運效率或應收帳款管理方面的警訊。\n",
       "* 公司持續進行投資活動，顯示其積極擴張業務的企圖心。\n",
       "* 資產負債結構穩健，現金部位充裕。\n",
       "\n",
       "\n",
       "**新聞資訊:**\n",
       "\n",
       "新聞資訊顯示騰雲在 2023 年 9 月曾進行股票申購，市場反應如何，需要進一步追蹤。新聞也提及投資人多以短線價差為主，這點需要留意市場炒作的風險。\n",
       "\n",
       "\n",
       "**投資建議與理由:**\n",
       "\n",
       "目前資訊顯示騰雲的財務體質尚屬穩健，獲利能力也不錯。然而，營業活動現金流量為負值是一個警訊，需要進一步觀察和研究。若能釐清負現金流的原因，且公司能持續維持獲利成長，則可考慮投資。\n",
       "\n",
       "**投資信心值：** 70\n",
       "\n",
       "\n",
       "**後續追蹤重點：**\n",
       "\n",
       "* 營業活動現金流量轉正的時機和原因\n",
       "* 營收和獲利的持續成長性\n",
       "* SaaS 服務的市場競爭狀況和公司市佔率變化\n",
       "* 公司未來的發展策略和執行力\n",
       "\n",
       "\n",
       "**重要提醒：** 以上分析僅供參考，不構成任何投資建議。投資前請務必進行更深入的研究，並評估自身風險承受能力。\n"
      ],
      "text/plain": [
       "<IPython.core.display.Markdown object>"
      ]
     },
     "metadata": {},
     "output_type": "display_data"
    }
   ],
   "source": [
    "from IPython.display import Markdown, display\n",
    "\n",
    "display(Markdown(llm_output))\n"
   ]
  }
 ],
 "metadata": {
  "kernelspec": {
   "display_name": "nchu_1131_finance",
   "language": "python",
   "name": "python3"
  },
  "language_info": {
   "codemirror_mode": {
    "name": "ipython",
    "version": 3
   },
   "file_extension": ".py",
   "mimetype": "text/x-python",
   "name": "python",
   "nbconvert_exporter": "python",
   "pygments_lexer": "ipython3",
   "version": "3.10.15"
  }
 },
 "nbformat": 4,
 "nbformat_minor": 2
}
